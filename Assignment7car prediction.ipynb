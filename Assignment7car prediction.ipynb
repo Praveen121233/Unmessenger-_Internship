{
 "cells": [
  {
   "cell_type": "markdown",
   "metadata": {},
   "source": [
    "### Importing Libraries"
   ]
  },
  {
   "cell_type": "code",
   "execution_count": 1,
   "metadata": {},
   "outputs": [],
   "source": [
    "import pandas as pd\n",
    "import numpy as np\n",
    "import matplotlib.pyplot as plt\n",
    "import seaborn as sns\n",
    "from sklearn.model_selection import train_test_split\n",
    "from sklearn.preprocessing import LabelEncoder, StandardScaler, OneHotEncoder\n",
    "from sklearn.linear_model import LinearRegression\n",
    "from sklearn.ensemble import RandomForestRegressor, GradientBoostingRegressor\n",
    "from sklearn.metrics import mean_squared_error, r2_score, mean_absolute_error, mean_absolute_percentage_error"
   ]
  },
  {
   "cell_type": "code",
   "execution_count": 2,
   "metadata": {},
   "outputs": [],
   "source": [
    "# Load the data\n",
    "df = pd.read_csv(r\"C:\\Users\\USER\\Desktop\\Car Dataset.csv\")"
   ]
  },
  {
   "cell_type": "code",
   "execution_count": 3,
   "metadata": {},
   "outputs": [
    {
     "data": {
      "text/html": [
       "<div>\n",
       "<style scoped>\n",
       "    .dataframe tbody tr th:only-of-type {\n",
       "        vertical-align: middle;\n",
       "    }\n",
       "\n",
       "    .dataframe tbody tr th {\n",
       "        vertical-align: top;\n",
       "    }\n",
       "\n",
       "    .dataframe thead th {\n",
       "        text-align: right;\n",
       "    }\n",
       "</style>\n",
       "<table border=\"1\" class=\"dataframe\">\n",
       "  <thead>\n",
       "    <tr style=\"text-align: right;\">\n",
       "      <th></th>\n",
       "      <th>name</th>\n",
       "      <th>year</th>\n",
       "      <th>selling_price</th>\n",
       "      <th>km_driven</th>\n",
       "      <th>fuel</th>\n",
       "      <th>seller_type</th>\n",
       "      <th>transmission</th>\n",
       "      <th>owner</th>\n",
       "    </tr>\n",
       "  </thead>\n",
       "  <tbody>\n",
       "    <tr>\n",
       "      <th>0</th>\n",
       "      <td>Maruti 800 AC</td>\n",
       "      <td>2007</td>\n",
       "      <td>60000</td>\n",
       "      <td>70000</td>\n",
       "      <td>Petrol</td>\n",
       "      <td>Individual</td>\n",
       "      <td>Manual</td>\n",
       "      <td>First Owner</td>\n",
       "    </tr>\n",
       "    <tr>\n",
       "      <th>1</th>\n",
       "      <td>Maruti Wagon R LXI Minor</td>\n",
       "      <td>2007</td>\n",
       "      <td>135000</td>\n",
       "      <td>50000</td>\n",
       "      <td>Petrol</td>\n",
       "      <td>Individual</td>\n",
       "      <td>Manual</td>\n",
       "      <td>First Owner</td>\n",
       "    </tr>\n",
       "    <tr>\n",
       "      <th>2</th>\n",
       "      <td>Hyundai Verna 1.6 SX</td>\n",
       "      <td>2012</td>\n",
       "      <td>600000</td>\n",
       "      <td>100000</td>\n",
       "      <td>Diesel</td>\n",
       "      <td>Individual</td>\n",
       "      <td>Manual</td>\n",
       "      <td>First Owner</td>\n",
       "    </tr>\n",
       "    <tr>\n",
       "      <th>3</th>\n",
       "      <td>Datsun RediGO T Option</td>\n",
       "      <td>2017</td>\n",
       "      <td>250000</td>\n",
       "      <td>46000</td>\n",
       "      <td>Petrol</td>\n",
       "      <td>Individual</td>\n",
       "      <td>Manual</td>\n",
       "      <td>First Owner</td>\n",
       "    </tr>\n",
       "    <tr>\n",
       "      <th>4</th>\n",
       "      <td>Honda Amaze VX i-DTEC</td>\n",
       "      <td>2014</td>\n",
       "      <td>450000</td>\n",
       "      <td>141000</td>\n",
       "      <td>Diesel</td>\n",
       "      <td>Individual</td>\n",
       "      <td>Manual</td>\n",
       "      <td>Second Owner</td>\n",
       "    </tr>\n",
       "  </tbody>\n",
       "</table>\n",
       "</div>"
      ],
      "text/plain": [
       "                       name  year  selling_price  km_driven    fuel  \\\n",
       "0             Maruti 800 AC  2007          60000      70000  Petrol   \n",
       "1  Maruti Wagon R LXI Minor  2007         135000      50000  Petrol   \n",
       "2      Hyundai Verna 1.6 SX  2012         600000     100000  Diesel   \n",
       "3    Datsun RediGO T Option  2017         250000      46000  Petrol   \n",
       "4     Honda Amaze VX i-DTEC  2014         450000     141000  Diesel   \n",
       "\n",
       "  seller_type transmission         owner  \n",
       "0  Individual       Manual   First Owner  \n",
       "1  Individual       Manual   First Owner  \n",
       "2  Individual       Manual   First Owner  \n",
       "3  Individual       Manual   First Owner  \n",
       "4  Individual       Manual  Second Owner  "
      ]
     },
     "execution_count": 3,
     "metadata": {},
     "output_type": "execute_result"
    }
   ],
   "source": [
    "df.head()"
   ]
  },
  {
   "cell_type": "code",
   "execution_count": 4,
   "metadata": {},
   "outputs": [
    {
     "data": {
      "text/html": [
       "<div>\n",
       "<style scoped>\n",
       "    .dataframe tbody tr th:only-of-type {\n",
       "        vertical-align: middle;\n",
       "    }\n",
       "\n",
       "    .dataframe tbody tr th {\n",
       "        vertical-align: top;\n",
       "    }\n",
       "\n",
       "    .dataframe thead th {\n",
       "        text-align: right;\n",
       "    }\n",
       "</style>\n",
       "<table border=\"1\" class=\"dataframe\">\n",
       "  <thead>\n",
       "    <tr style=\"text-align: right;\">\n",
       "      <th></th>\n",
       "      <th>name</th>\n",
       "      <th>year</th>\n",
       "      <th>selling_price</th>\n",
       "      <th>km_driven</th>\n",
       "      <th>fuel</th>\n",
       "      <th>seller_type</th>\n",
       "      <th>transmission</th>\n",
       "      <th>owner</th>\n",
       "    </tr>\n",
       "  </thead>\n",
       "  <tbody>\n",
       "    <tr>\n",
       "      <th>4335</th>\n",
       "      <td>Hyundai i20 Magna 1.4 CRDi (Diesel)</td>\n",
       "      <td>2014</td>\n",
       "      <td>409999</td>\n",
       "      <td>80000</td>\n",
       "      <td>Diesel</td>\n",
       "      <td>Individual</td>\n",
       "      <td>Manual</td>\n",
       "      <td>Second Owner</td>\n",
       "    </tr>\n",
       "    <tr>\n",
       "      <th>4336</th>\n",
       "      <td>Hyundai i20 Magna 1.4 CRDi</td>\n",
       "      <td>2014</td>\n",
       "      <td>409999</td>\n",
       "      <td>80000</td>\n",
       "      <td>Diesel</td>\n",
       "      <td>Individual</td>\n",
       "      <td>Manual</td>\n",
       "      <td>Second Owner</td>\n",
       "    </tr>\n",
       "    <tr>\n",
       "      <th>4337</th>\n",
       "      <td>Maruti 800 AC BSIII</td>\n",
       "      <td>2009</td>\n",
       "      <td>110000</td>\n",
       "      <td>83000</td>\n",
       "      <td>Petrol</td>\n",
       "      <td>Individual</td>\n",
       "      <td>Manual</td>\n",
       "      <td>Second Owner</td>\n",
       "    </tr>\n",
       "    <tr>\n",
       "      <th>4338</th>\n",
       "      <td>Hyundai Creta 1.6 CRDi SX Option</td>\n",
       "      <td>2016</td>\n",
       "      <td>865000</td>\n",
       "      <td>90000</td>\n",
       "      <td>Diesel</td>\n",
       "      <td>Individual</td>\n",
       "      <td>Manual</td>\n",
       "      <td>First Owner</td>\n",
       "    </tr>\n",
       "    <tr>\n",
       "      <th>4339</th>\n",
       "      <td>Renault KWID RXT</td>\n",
       "      <td>2016</td>\n",
       "      <td>225000</td>\n",
       "      <td>40000</td>\n",
       "      <td>Petrol</td>\n",
       "      <td>Individual</td>\n",
       "      <td>Manual</td>\n",
       "      <td>First Owner</td>\n",
       "    </tr>\n",
       "  </tbody>\n",
       "</table>\n",
       "</div>"
      ],
      "text/plain": [
       "                                     name  year  selling_price  km_driven  \\\n",
       "4335  Hyundai i20 Magna 1.4 CRDi (Diesel)  2014         409999      80000   \n",
       "4336           Hyundai i20 Magna 1.4 CRDi  2014         409999      80000   \n",
       "4337                  Maruti 800 AC BSIII  2009         110000      83000   \n",
       "4338     Hyundai Creta 1.6 CRDi SX Option  2016         865000      90000   \n",
       "4339                     Renault KWID RXT  2016         225000      40000   \n",
       "\n",
       "        fuel seller_type transmission         owner  \n",
       "4335  Diesel  Individual       Manual  Second Owner  \n",
       "4336  Diesel  Individual       Manual  Second Owner  \n",
       "4337  Petrol  Individual       Manual  Second Owner  \n",
       "4338  Diesel  Individual       Manual   First Owner  \n",
       "4339  Petrol  Individual       Manual   First Owner  "
      ]
     },
     "execution_count": 4,
     "metadata": {},
     "output_type": "execute_result"
    }
   ],
   "source": [
    "df.tail()"
   ]
  },
  {
   "cell_type": "code",
   "execution_count": 5,
   "metadata": {},
   "outputs": [
    {
     "data": {
      "text/plain": [
       "(4340, 8)"
      ]
     },
     "execution_count": 5,
     "metadata": {},
     "output_type": "execute_result"
    }
   ],
   "source": [
    "#Checking dataset dimensions Rows and Columns \n",
    "df.shape"
   ]
  },
  {
   "cell_type": "code",
   "execution_count": 6,
   "metadata": {},
   "outputs": [
    {
     "data": {
      "text/plain": [
       "Index(['name', 'year', 'selling_price', 'km_driven', 'fuel', 'seller_type',\n",
       "       'transmission', 'owner'],\n",
       "      dtype='object')"
      ]
     },
     "execution_count": 6,
     "metadata": {},
     "output_type": "execute_result"
    }
   ],
   "source": [
    "df.columns"
   ]
  },
  {
   "cell_type": "code",
   "execution_count": 7,
   "metadata": {},
   "outputs": [
    {
     "name": "stdout",
     "output_type": "stream",
     "text": [
      "<class 'pandas.core.frame.DataFrame'>\n",
      "RangeIndex: 4340 entries, 0 to 4339\n",
      "Data columns (total 8 columns):\n",
      " #   Column         Non-Null Count  Dtype \n",
      "---  ------         --------------  ----- \n",
      " 0   name           4340 non-null   object\n",
      " 1   year           4340 non-null   int64 \n",
      " 2   selling_price  4340 non-null   int64 \n",
      " 3   km_driven      4340 non-null   int64 \n",
      " 4   fuel           4340 non-null   object\n",
      " 5   seller_type    4340 non-null   object\n",
      " 6   transmission   4340 non-null   object\n",
      " 7   owner          4340 non-null   object\n",
      "dtypes: int64(3), object(5)\n",
      "memory usage: 271.4+ KB\n"
     ]
    }
   ],
   "source": [
    "# Let's check data-type of dataset\n",
    "df.info()"
   ]
  },
  {
   "cell_type": "code",
   "execution_count": 8,
   "metadata": {},
   "outputs": [
    {
     "data": {
      "text/plain": [
       "name             0\n",
       "year             0\n",
       "selling_price    0\n",
       "km_driven        0\n",
       "fuel             0\n",
       "seller_type      0\n",
       "transmission     0\n",
       "owner            0\n",
       "dtype: int64"
      ]
     },
     "execution_count": 8,
     "metadata": {},
     "output_type": "execute_result"
    }
   ],
   "source": [
    "# Data cleaning\n",
    "df.isnull().sum()\n"
   ]
  },
  {
   "cell_type": "markdown",
   "metadata": {},
   "source": [
    "#### Here we can see that there are no null values are available in my dataset."
   ]
  },
  {
   "cell_type": "code",
   "execution_count": 9,
   "metadata": {},
   "outputs": [
    {
     "data": {
      "text/plain": [
       "763"
      ]
     },
     "execution_count": 9,
     "metadata": {},
     "output_type": "execute_result"
    }
   ],
   "source": [
    "# Let's Check Duplicate values\n",
    "df.duplicated().sum()"
   ]
  },
  {
   "cell_type": "markdown",
   "metadata": {},
   "source": [
    "#### As we can see that there are total 763 duplicate are available in dataset."
   ]
  },
  {
   "cell_type": "code",
   "execution_count": 10,
   "metadata": {},
   "outputs": [],
   "source": [
    "df.drop_duplicates(inplace=True)"
   ]
  },
  {
   "cell_type": "code",
   "execution_count": 11,
   "metadata": {},
   "outputs": [
    {
     "name": "stdout",
     "output_type": "stream",
     "text": [
      "Numerical column Index(['year', 'selling_price', 'km_driven'], dtype='object')\n",
      "Categorical column Index(['name', 'fuel', 'seller_type', 'transmission', 'owner'], dtype='object')\n"
     ]
    }
   ],
   "source": [
    "# Segregate Numerical and Categorical Columns\n",
    "N_Column = df.columns[df.dtypes!='object']\n",
    "Cat_Column = df.columns[df.dtypes=='object']\n",
    "print(\"Numerical column\",N_Column)\n",
    "print(\"Categorical column\",Cat_Column)"
   ]
  },
  {
   "cell_type": "code",
   "execution_count": 12,
   "metadata": {},
   "outputs": [
    {
     "data": {
      "text/html": [
       "<div>\n",
       "<style scoped>\n",
       "    .dataframe tbody tr th:only-of-type {\n",
       "        vertical-align: middle;\n",
       "    }\n",
       "\n",
       "    .dataframe tbody tr th {\n",
       "        vertical-align: top;\n",
       "    }\n",
       "\n",
       "    .dataframe thead th {\n",
       "        text-align: right;\n",
       "    }\n",
       "</style>\n",
       "<table border=\"1\" class=\"dataframe\">\n",
       "  <thead>\n",
       "    <tr style=\"text-align: right;\">\n",
       "      <th></th>\n",
       "      <th>name</th>\n",
       "      <th>fuel</th>\n",
       "      <th>seller_type</th>\n",
       "      <th>transmission</th>\n",
       "      <th>owner</th>\n",
       "    </tr>\n",
       "  </thead>\n",
       "  <tbody>\n",
       "    <tr>\n",
       "      <th>count</th>\n",
       "      <td>3577</td>\n",
       "      <td>3577</td>\n",
       "      <td>3577</td>\n",
       "      <td>3577</td>\n",
       "      <td>3577</td>\n",
       "    </tr>\n",
       "    <tr>\n",
       "      <th>unique</th>\n",
       "      <td>1491</td>\n",
       "      <td>5</td>\n",
       "      <td>3</td>\n",
       "      <td>2</td>\n",
       "      <td>5</td>\n",
       "    </tr>\n",
       "    <tr>\n",
       "      <th>top</th>\n",
       "      <td>Maruti Swift Dzire VDI</td>\n",
       "      <td>Diesel</td>\n",
       "      <td>Individual</td>\n",
       "      <td>Manual</td>\n",
       "      <td>First Owner</td>\n",
       "    </tr>\n",
       "    <tr>\n",
       "      <th>freq</th>\n",
       "      <td>54</td>\n",
       "      <td>1800</td>\n",
       "      <td>2832</td>\n",
       "      <td>3265</td>\n",
       "      <td>2218</td>\n",
       "    </tr>\n",
       "  </tbody>\n",
       "</table>\n",
       "</div>"
      ],
      "text/plain": [
       "                          name    fuel seller_type transmission        owner\n",
       "count                     3577    3577        3577         3577         3577\n",
       "unique                    1491       5           3            2            5\n",
       "top     Maruti Swift Dzire VDI  Diesel  Individual       Manual  First Owner\n",
       "freq                        54    1800        2832         3265         2218"
      ]
     },
     "execution_count": 12,
     "metadata": {},
     "output_type": "execute_result"
    }
   ],
   "source": [
    "df[Cat_Column].describe()"
   ]
  },
  {
   "cell_type": "code",
   "execution_count": 13,
   "metadata": {},
   "outputs": [
    {
     "data": {
      "text/plain": [
       "Maruti Swift Dzire VDI               54\n",
       "Maruti Alto 800 LXI                  48\n",
       "Maruti Alto LXi                      42\n",
       "Maruti Alto LX                       30\n",
       "Maruti Swift VDI BSIV                28\n",
       "                                     ..\n",
       "Toyota Innova 2.5 E 8 STR             1\n",
       "Nissan Micra XL CVT                   1\n",
       "Mahindra Scorpio VLX AT 2WD BSIII     1\n",
       "Toyota Corolla AE                     1\n",
       "Hyundai i20 Magna 1.4 CRDi            1\n",
       "Name: name, Length: 1491, dtype: int64"
      ]
     },
     "execution_count": 13,
     "metadata": {},
     "output_type": "execute_result"
    }
   ],
   "source": [
    "# Now Let's Check the total values count of each Categorical columns\n",
    "df[\"name\"].value_counts()"
   ]
  },
  {
   "cell_type": "code",
   "execution_count": 14,
   "metadata": {},
   "outputs": [
    {
     "data": {
      "text/plain": [
       "Diesel      1800\n",
       "Petrol      1717\n",
       "CNG           37\n",
       "LPG           22\n",
       "Electric       1\n",
       "Name: fuel, dtype: int64"
      ]
     },
     "execution_count": 14,
     "metadata": {},
     "output_type": "execute_result"
    }
   ],
   "source": [
    "df[\"fuel\"].value_counts()"
   ]
  },
  {
   "cell_type": "code",
   "execution_count": 15,
   "metadata": {},
   "outputs": [
    {
     "data": {
      "text/plain": [
       "Individual          2832\n",
       "Dealer               712\n",
       "Trustmark Dealer      33\n",
       "Name: seller_type, dtype: int64"
      ]
     },
     "execution_count": 15,
     "metadata": {},
     "output_type": "execute_result"
    }
   ],
   "source": [
    "df[\"seller_type\"].value_counts()"
   ]
  },
  {
   "cell_type": "code",
   "execution_count": 16,
   "metadata": {},
   "outputs": [
    {
     "data": {
      "text/plain": [
       "Manual       3265\n",
       "Automatic     312\n",
       "Name: transmission, dtype: int64"
      ]
     },
     "execution_count": 16,
     "metadata": {},
     "output_type": "execute_result"
    }
   ],
   "source": [
    "df[\"transmission\"].value_counts()"
   ]
  },
  {
   "cell_type": "code",
   "execution_count": 17,
   "metadata": {},
   "outputs": [
    {
     "data": {
      "text/plain": [
       "First Owner             2218\n",
       "Second Owner             978\n",
       "Third Owner              289\n",
       "Fourth & Above Owner      75\n",
       "Test Drive Car            17\n",
       "Name: owner, dtype: int64"
      ]
     },
     "execution_count": 17,
     "metadata": {},
     "output_type": "execute_result"
    }
   ],
   "source": [
    "df[\"owner\"].value_counts()"
   ]
  },
  {
   "cell_type": "markdown",
   "metadata": {},
   "source": [
    "#### Data Visualization"
   ]
  },
  {
   "cell_type": "code",
   "execution_count": 18,
   "metadata": {},
   "outputs": [
    {
     "name": "stdout",
     "output_type": "stream",
     "text": [
      "\n",
      "\n"
     ]
    },
    {
     "data": {
      "image/png": "[encoded data removed]",
      "text/plain": [
       "<Figure size 1000x600 with 1 Axes>"
      ]
     },
     "metadata": {},
     "output_type": "display_data"
    },
    {
     "name": "stdout",
     "output_type": "stream",
     "text": [
      "\n",
      "\n"
     ]
    },
    {
     "data": {
      "image/png": "[encoded data removed]",
      "text/plain": [
       "<Figure size 640x480 with 1 Axes>"
      ]
     },
     "metadata": {},
     "output_type": "display_data"
    },
    {
     "name": "stdout",
     "output_type": "stream",
     "text": [
      "\n",
      "\n"
     ]
    },
    {
     "data": {
      "image/png": "[encoded data removed]",
      "text/plain": [
       "<Figure size 640x480 with 1 Axes>"
      ]
     },
     "metadata": {},
     "output_type": "display_data"
    }
   ],
   "source": [
    "# Now we will apply histplot for each numerical column to check hist of numerical features.\n",
    "plt.figure(figsize=(10,6))\n",
    "x=0\n",
    "for i in N_Column:\n",
    "    sns.histplot(data=df, x=i, kde=True)\n",
    "    print('\\n')\n",
    "    plt.show()"
   ]
  },
  {
   "cell_type": "code",
   "execution_count": 19,
   "metadata": {},
   "outputs": [
    {
     "data": {
      "text/plain": [
       "array([[<Axes: xlabel='year', ylabel='year'>,\n",
       "        <Axes: xlabel='selling_price', ylabel='year'>,\n",
       "        <Axes: xlabel='km_driven', ylabel='year'>],\n",
       "       [<Axes: xlabel='year', ylabel='selling_price'>,\n",
       "        <Axes: xlabel='selling_price', ylabel='selling_price'>,\n",
       "        <Axes: xlabel='km_driven', ylabel='selling_price'>],\n",
       "       [<Axes: xlabel='year', ylabel='km_driven'>,\n",
       "        <Axes: xlabel='selling_price', ylabel='km_driven'>,\n",
       "        <Axes: xlabel='km_driven', ylabel='km_driven'>]], dtype=object)"
      ]
     },
     "execution_count": 19,
     "metadata": {},
     "output_type": "execute_result"
    },
    {
     "data": {
      "image/png": "[encoded data removed]",
      "text/plain": [
       "<Figure size 1000x600 with 9 Axes>"
      ]
     },
     "metadata": {},
     "output_type": "display_data"
    }
   ],
   "source": [
    "# Scatter plot matrix \n",
    "pd.plotting.scatter_matrix(df, figsize = (10, 6))"
   ]
  },
  {
   "cell_type": "code",
   "execution_count": 20,
   "metadata": {},
   "outputs": [
    {
     "name": "stderr",
     "output_type": "stream",
     "text": [
      "C:\\Users\\USER\\AppData\\Local\\Temp\\ipykernel_10160\\3796730200.py:2: FutureWarning: The default value of numeric_only in DataFrame.corr is deprecated. In a future version, it will default to False. Select only valid columns or specify the value of numeric_only to silence this warning.\n",
      "  sns.heatmap(df.corr(),annot=True)\n"
     ]
    },
    {
     "data": {
      "image/png": "[encoded data removed]",
      "text/plain": [
       "<Figure size 640x480 with 2 Axes>"
      ]
     },
     "metadata": {},
     "output_type": "display_data"
    }
   ],
   "source": [
    "#Now we will check the correlation between numeric column.\n",
    "sns.heatmap(df.corr(),annot=True)\n",
    "plt.show()"
   ]
  },
  {
   "cell_type": "code",
   "execution_count": null,
   "metadata": {},
   "outputs": [],
   "source": []
  },
  {
   "cell_type": "code",
   "execution_count": 21,
   "metadata": {},
   "outputs": [],
   "source": [
    "# Perform one-hot encoding for categorical variables\n",
    "df_encoded = pd.get_dummies(df, columns=['fuel', 'seller_type', 'transmission', 'owner'])"
   ]
  },
  {
   "cell_type": "code",
   "execution_count": 22,
   "metadata": {},
   "outputs": [
    {
     "name": "stdout",
     "output_type": "stream",
     "text": [
      "                       name  year  selling_price  km_driven  fuel_CNG  \\\n",
      "0             Maruti 800 AC  2007          60000      70000         0   \n",
      "1  Maruti Wagon R LXI Minor  2007         135000      50000         0   \n",
      "2      Hyundai Verna 1.6 SX  2012         600000     100000         0   \n",
      "3    Datsun RediGO T Option  2017         250000      46000         0   \n",
      "4     Honda Amaze VX i-DTEC  2014         450000     141000         0   \n",
      "\n",
      "   fuel_Diesel  fuel_Electric  fuel_LPG  fuel_Petrol  seller_type_Dealer  \\\n",
      "0            0              0         0            1                   0   \n",
      "1            0              0         0            1                   0   \n",
      "2            1              0         0            0                   0   \n",
      "3            0              0         0            1                   0   \n",
      "4            1              0         0            0                   0   \n",
      "\n",
      "   seller_type_Individual  seller_type_Trustmark Dealer  \\\n",
      "0                       1                             0   \n",
      "1                       1                             0   \n",
      "2                       1                             0   \n",
      "3                       1                             0   \n",
      "4                       1                             0   \n",
      "\n",
      "   transmission_Automatic  transmission_Manual  owner_First Owner  \\\n",
      "0                       0                    1                  1   \n",
      "1                       0                    1                  1   \n",
      "2                       0                    1                  1   \n",
      "3                       0                    1                  1   \n",
      "4                       0                    1                  0   \n",
      "\n",
      "   owner_Fourth & Above Owner  owner_Second Owner  owner_Test Drive Car  \\\n",
      "0                           0                   0                     0   \n",
      "1                           0                   0                     0   \n",
      "2                           0                   0                     0   \n",
      "3                           0                   0                     0   \n",
      "4                           0                   1                     0   \n",
      "\n",
      "   owner_Third Owner  \n",
      "0                  0  \n",
      "1                  0  \n",
      "2                  0  \n",
      "3                  0  \n",
      "4                  0  \n"
     ]
    }
   ],
   "source": [
    "print(df_encoded.head())"
   ]
  },
  {
   "cell_type": "code",
   "execution_count": 23,
   "metadata": {},
   "outputs": [],
   "source": [
    "# Separate features and target variable\n",
    "X = df_encoded.drop(columns=['selling_price','name'])\n",
    "y = df_encoded['selling_price']"
   ]
  },
  {
   "cell_type": "code",
   "execution_count": 24,
   "metadata": {},
   "outputs": [],
   "source": [
    "# Split the data into training and testing sets\n",
    "X_train, X_test, y_train, y_test = train_test_split(X, y, test_size=0.2, random_state=42)"
   ]
  },
  {
   "cell_type": "code",
   "execution_count": 25,
   "metadata": {},
   "outputs": [],
   "source": [
    "# Standardize numerical features if needed\n",
    "scaler = StandardScaler()\n",
    "num_cols = X.select_dtypes(include=['int64']).columns\n",
    "X_train[num_cols] = scaler.fit_transform(X_train[num_cols])\n",
    "X_test[num_cols] = scaler.transform(X_test[num_cols])"
   ]
  },
  {
   "cell_type": "markdown",
   "metadata": {},
   "source": [
    "### Data Modelling"
   ]
  },
  {
   "cell_type": "code",
   "execution_count": 26,
   "metadata": {},
   "outputs": [],
   "source": [
    "# Train Linear Regression model\n",
    "lr_model = LinearRegression()\n",
    "lr_trend=lr_model.fit(X_train, y_train)\n",
    "lr_predict = lr_trend.predict(X_test)"
   ]
  },
  {
   "cell_type": "code",
   "execution_count": 27,
   "metadata": {},
   "outputs": [
    {
     "data": {
      "text/plain": [
       "array([ 4.88618559e+05,  4.78334281e+05,  6.28427341e+05,  1.56971365e+06,\n",
       "        3.39098060e+04,  3.47305459e+05,  1.27300405e+05,  6.68712810e+05,\n",
       "        7.83671403e+05,  2.97296924e+05,  4.81548546e+05,  3.94045863e+05,\n",
       "        7.25892292e+05,  2.82410922e+05,  4.87791933e+05,  3.98483368e+05,\n",
       "        4.01018022e+05,  7.77710391e+05,  4.55982643e+05,  3.31784974e+05,\n",
       "        1.65973333e+05,  2.15849009e+05,  7.05352468e+03,  5.89852743e+05,\n",
       "        5.50007856e+05,  4.62713219e+05,  5.14648214e+05,  6.43565305e+05,\n",
       "        5.70809371e+05,  1.22799256e+05,  5.90731814e+05,  7.46337638e+04,\n",
       "        9.33521939e+04,  1.23076739e+06,  2.63506805e+05,  6.51474649e+04,\n",
       "        3.74190387e+05,  2.66280340e+05,  5.17233129e+05,  7.46693807e+05,\n",
       "        1.31013516e+06,  4.52381901e+05,  7.39098472e+05,  6.98308642e+05,\n",
       "        4.38747370e+05,  1.87517059e+05,  1.48268770e+05,  3.46524242e+05,\n",
       "        1.02180496e+05,  4.34026925e+05,  3.58686222e+05,  5.90041363e+05,\n",
       "        7.05090778e+05,  4.41703659e+05,  2.16728080e+05,  5.22686032e+05,\n",
       "        4.17571401e+05,  6.31455772e+05,  4.87791933e+05,  3.65302060e+05,\n",
       "        3.86232954e+05,  4.47947047e+05, -3.55788769e+04,  5.38322491e+04,\n",
       "        3.94818556e+05,  5.58444942e+05,  3.91968645e+05,  1.36713394e+06,\n",
       "        6.07312147e+05,  2.64978472e+05,  1.09942669e+06,  5.02350060e+05,\n",
       "        3.07303532e+05,  4.06344018e+05,  5.14648214e+05,  6.45137761e+05,\n",
       "        3.86421575e+05,  8.90316672e+05,  7.64474963e+04, -1.89632426e+05,\n",
       "        6.56234835e+05,  1.34401093e+05,  8.52094450e+05,  4.22106158e+05,\n",
       "        6.68712810e+05,  1.38243584e+06,  2.55488366e+05,  2.94709077e+05,\n",
       "        3.22516299e+05,  4.67680869e+05,  4.81548546e+05,  6.92102173e+05,\n",
       "        4.01897093e+05,  1.25521370e+05,  3.31829940e+05,  7.59682412e+05,\n",
       "       -2.47109419e+03,  4.33200299e+05,  1.91479641e+05,  6.23642862e+05,\n",
       "        5.96905695e+05,  9.01092824e+04, -1.67223069e+05,  2.52781106e+05,\n",
       "        1.49230956e+06,  6.03720419e+05,  2.43073732e+05,  3.33466429e+05,\n",
       "        4.39945516e+05,  5.62996461e+05,  5.30085413e+05,  3.66320481e+05,\n",
       "        2.78064932e+05,  1.49838292e+05, -2.76156664e+04,  2.37243119e+05,\n",
       "        4.57025070e+05,  2.65819224e+05,  2.37340974e+05,  6.20364564e+05,\n",
       "        6.29697629e+05,  5.36140180e+05,  2.84998770e+05,  6.58312053e+05,\n",
       "        4.07170643e+05,  2.84998770e+05,  1.08608831e+06,  6.09963806e+05,\n",
       "        4.94725771e+05,  7.32826130e+05,  4.74803328e+05,  5.28244479e+05,\n",
       "        5.24034244e+05,  2.71131094e+05,  4.40960763e+05, -4.18082843e+04,\n",
       "        1.53343430e+06,  6.30576700e+05,  3.10093815e+04,  2.44274812e+05,\n",
       "        5.68861093e+05,  5.68887722e+05,  2.42024325e+04,  1.27232341e+06,\n",
       "        4.00100630e+05,  6.11533329e+05,  2.56150170e+05,  4.81684721e+05,\n",
       "        3.80314362e+05,  7.80483926e+05,  4.94725771e+05,  5.46540937e+05,\n",
       "        7.43226888e+05,  6.58312053e+05,  5.95519226e+05,  3.57807150e+05,\n",
       "        1.14294285e+06,  3.73380524e+05,  4.70013675e+05,  4.56908591e+05,\n",
       "        2.74120123e+05,  8.80184762e+04,  4.82427617e+05,  5.01829401e+05,\n",
       "        5.45964033e+05,  4.54828439e+05,  1.35280165e+05,  4.68559941e+05,\n",
       "        6.62797298e+05,  1.08537430e+05,  7.04208091e+05,  7.38489681e+05,\n",
       "        3.04832611e+05,  2.63506805e+05,  5.18805584e+05,  3.71674827e+05,\n",
       "        2.16330464e+05,  3.65431439e+05,  5.29458996e+05,  4.07170643e+05,\n",
       "        1.42195579e+06,  1.22982010e+05,  5.01607164e+05,  3.30152193e+05,\n",
       "       -1.61206622e+05,  4.10637562e+05,  5.69051228e+05,  1.53835038e+06,\n",
       "        3.66446686e+05,  6.17445316e+03,  1.36678725e+06,  2.52087722e+05,\n",
       "        4.37504945e+05,  4.95416222e+05,  5.45241527e+05,  6.04599490e+05,\n",
       "        3.25032277e+05,  4.92085478e+05,  4.53375397e+05,  5.19635143e+05,\n",
       "        1.58981390e+05,  5.29342517e+05,  2.04429926e+05,  1.38918106e+06,\n",
       "       -4.75381095e+04,  4.27093086e+05,  4.34026925e+05,  6.16897645e+05,\n",
       "        7.42290820e+05,  7.78090357e+05,  1.62136446e+05,  5.17926513e+05,\n",
       "        3.29883177e+05,  1.53781800e+06,  2.64099400e+05,  4.24514865e+04,\n",
       "        3.87275963e+05,  3.98531108e+05,  1.28949964e+06,  7.19074934e+05,\n",
       "        3.61173135e+05,  3.09356641e+05,  4.01897093e+05,  1.79214884e+05,\n",
       "        1.61625817e+05,  3.95021163e+05,  1.30679015e+06, -6.70644451e+04,\n",
       "        6.99036011e+05,  2.92713825e+05,  5.01099468e+05,  1.91391954e+05,\n",
       "        1.64623360e+05,  1.71557198e+05,  3.39590404e+05,  7.50160726e+05,\n",
       "        5.77674001e+05,  2.72010165e+05,  8.41351440e+05,  1.36926865e+05,\n",
       "        3.83462352e+05,  4.77774824e+04,  1.76991193e+05,  4.06480192e+05,\n",
       "        1.08423883e+05,  5.00780538e+05,  3.65620060e+05,  1.43783525e+05,\n",
       "        3.46524242e+05,  5.93355015e+05,  5.97665652e+05,  4.43105633e+04,\n",
       "        4.37336592e+04,  4.54828439e+05,  6.14423344e+05,  1.26525090e+06,\n",
       "       -2.76949440e+02,  1.16558801e+05,  7.96847585e+05,  2.50518200e+05,\n",
       "        4.17571401e+05,  4.47761359e+05,  4.31676241e+05,  5.25875597e+05,\n",
       "        4.58295358e+05,  6.68712810e+05,  4.68445934e+05,  4.84574736e+05,\n",
       "        4.92085478e+05,  3.58686222e+05,  5.54420762e+05,  5.38378686e+05,\n",
       "        6.71300658e+05,  4.27145532e+05, -2.16488707e+05,  4.96939165e+05,\n",
       "        7.36293050e+05,  3.49808407e+05,  3.96772965e+05,  1.35153281e+06,\n",
       "        5.28072229e+05,  3.93302967e+05,  7.87417765e+05,  5.63610097e+05,\n",
       "        3.72368210e+05,  4.88618559e+05,  6.51378215e+05,  1.87974402e+05,\n",
       "        5.85162546e+05,  4.83345009e+05,  5.33473039e+05, -5.37431770e+04,\n",
       "        4.61762277e+05,  7.28091856e+05,  6.19671180e+05,  5.82228454e+05,\n",
       "        4.67869490e+05,  3.39098060e+04, -1.21401477e+04,  5.77676934e+05,\n",
       "        7.32826130e+05,  1.55893059e+05,  6.99584469e+05,  5.69303752e+05,\n",
       "        5.36140180e+05,  8.15676020e+04,  1.23331635e+05, -1.81949144e+04,\n",
       "        5.34924256e+05,  4.30560005e+05,  6.93077678e+04, -1.91123059e+04,\n",
       "        6.24521934e+05,  7.65737178e+05,  2.12144981e+05,  4.40066982e+05,\n",
       "        2.56572966e+05,  7.52748574e+05,  4.01897093e+05,  4.81548546e+05,\n",
       "        1.36023061e+05,  4.34026925e+05,  7.12903687e+05,  5.36140180e+05,\n",
       "        1.51916584e+06,  4.94725771e+05,  4.99019316e+05,  1.35280165e+05,\n",
       "        4.51361520e+05,  5.25298693e+05,  3.61173135e+05,  5.28482721e+05,\n",
       "        9.48476159e+05,  3.58770224e+05,  5.30729284e+05,  1.84507483e+05,\n",
       "        7.05352468e+03,  4.60056580e+05,  1.33974528e+06,  4.96592473e+05,\n",
       "        5.19751623e+05,  6.97765723e+05,  4.60056580e+05,  2.64197255e+05,\n",
       "       -1.73288490e+05,  6.37510538e+05,  3.63676083e+05,  7.06663233e+05,\n",
       "        2.07325803e+04,  3.38763779e+05,  6.85168334e+05,  7.12024616e+05,\n",
       "        4.43105633e+04, -1.93200279e+05,  6.58312053e+05,  5.64202961e+05,\n",
       "        3.15321970e+05,  5.00780538e+05,  6.03720419e+05, -1.07494060e+05,\n",
       "        5.41687250e+05,  9.82077658e+05,  2.84998770e+05,  1.70209288e+05,\n",
       "       -1.07917000e+04,  4.21038320e+05,  1.29621505e+05,  9.19683593e+04,\n",
       "        5.30035900e+05,  4.20211694e+05,  5.25875597e+05,  4.34079370e+05,\n",
       "        4.10687075e+05,  1.32532137e+06,  4.86654887e+05,  5.92820556e+05,\n",
       "        5.16217737e+05,  4.46188904e+05,  2.37529595e+05,  1.15357722e+05,\n",
       "        1.81040564e+05,  2.04293751e+05, -1.19565273e+05,  4.14960802e+05,\n",
       "        4.78217801e+05,  7.17688166e+05,  6.51378215e+05,  4.27835552e+05,\n",
       "        7.73550088e+05,  6.64366820e+05,  5.95526554e+05,  1.10774622e+05,\n",
       "        1.89871799e+05,  1.26005952e+04,  6.03720419e+05,  3.65620060e+05,\n",
       "        4.99019316e+05,  4.27093086e+05,  5.22408678e+05, -2.67365949e+04,\n",
       "        6.58312053e+05,  4.61626103e+05,  1.21412488e+05, -6.81415175e+03,\n",
       "        5.28515891e+05,  5.69373090e+05,  5.08404827e+05,  2.83220786e+05,\n",
       "        1.95926566e+05, -3.76274354e+04,  5.29342517e+05,  2.16539459e+05,\n",
       "        1.21724641e+06,  7.66616250e+05,  4.92085478e+05,  5.25992077e+05,\n",
       "        1.34674833e+06,  4.21315804e+05,  8.96371438e+05,  1.16512136e+04,\n",
       "        1.29834763e+06,  5.01659610e+05,  9.01092824e+04,  6.10654257e+05,\n",
       "        4.65980131e+05,  6.57735149e+05,  3.54239297e+05,  1.27149135e+06,\n",
       "        9.24760554e+04,  8.27564818e+05,  4.92085478e+05,  7.83950845e+05,\n",
       "        4.47464083e+05,  7.46693807e+05,  4.12886197e+05,  7.30052595e+05,\n",
       "        1.61947547e+05,  4.14885698e+05,  1.33556265e+06,  3.26535524e+05,\n",
       "        4.20902145e+05,  7.12284487e+05,  1.30833240e+05, -2.09554869e+05,\n",
       "        1.15169101e+05,  1.45543401e+06,  2.00421296e+04,  4.04446621e+05,\n",
       "        2.94921084e+05,  4.78217801e+05,  5.69239849e+05,  4.04513588e+05,\n",
       "        6.80314648e+05,  2.71524796e+05, -3.89964290e+04,  5.08404827e+05,\n",
       "        1.47844189e+06,  5.00752776e+05,  1.84545803e+05,  2.78064932e+05,\n",
       "        1.25693323e+06,  3.13515339e+05,  4.26266461e+05,  4.71147788e+05,\n",
       "        3.66499131e+05,  4.61626103e+05,  1.43412150e+05,  4.67425828e+05,\n",
       "        1.14478650e+05,  5.01659610e+05, -2.35135971e+05,  1.59895290e+05,\n",
       "        5.22968820e+05,  1.63705968e+05,  4.94725771e+05,  7.25892292e+05,\n",
       "        3.52579009e+05,  7.61210960e+05,  3.38846395e+05,  5.62996461e+05,\n",
       "        9.66434930e+05,  4.74750882e+05,  1.16334385e+06, -6.81415175e+03,\n",
       "        1.31177708e+06, -1.79082929e+04,  7.62790652e+05,  5.38322491e+04,\n",
       "        2.49639128e+05,  1.10005697e+06,  1.52193938e+06,  5.43074018e+05,\n",
       "        1.38619667e+06,  7.80483926e+05,  1.05732290e+06,  5.32809436e+05,\n",
       "        4.47464083e+05,  2.43584361e+05,  9.70431206e+04, -6.58527104e+04,\n",
       "        4.68559941e+05,  6.89511682e+05,  6.93375077e+05,  5.28515891e+05,\n",
       "        5.13130864e+05,  4.83022751e+05, -1.15118349e+05,  4.81885681e+05,\n",
       "        1.76004122e+05,  2.78064932e+05,  1.16048172e+05,  1.06865278e+06,\n",
       "        3.52579009e+05,  4.13277856e+05,  6.12041025e+05,  5.16217737e+05,\n",
       "        5.42331121e+05,  5.18941759e+05,  9.78799359e+05, -2.81582033e+05,\n",
       "        5.76287233e+05,  4.20159248e+05,  2.82887268e+05,  4.20344936e+05,\n",
       "        7.25892292e+05,  6.09267490e+05,  1.09114334e+05,  7.36293050e+05,\n",
       "        8.27448339e+05,  1.69760735e+05,  3.77965862e+05,  2.15748075e+05,\n",
       "        3.24896102e+05,  2.80954947e+05,  2.71183539e+05, -5.61807238e+04,\n",
       "        4.56215353e+05,  5.01487762e+05,  7.01812479e+05,  1.30874839e+06,\n",
       "        3.59512847e+05,  5.89852743e+05,  6.42330064e+04,  8.22580527e+04,\n",
       "        1.30331780e+06,  1.42904454e+05,  1.47844189e+06,  4.95205705e+05,\n",
       "       -4.59685872e+04,  1.63705968e+05,  7.17410682e+05, -3.89964290e+04,\n",
       "        7.83950845e+05,  4.60935652e+05,  5.76864138e+05,  1.42385025e+06,\n",
       "        6.48790367e+05,  5.70437996e+05,  5.25928043e+05,  4.87905480e+05,\n",
       "        6.24521934e+05,  9.35298933e+05,  3.65620060e+05,  3.93083849e+05,\n",
       "        5.38322491e+04,  3.38711333e+05,  1.42214003e+05,  4.98883141e+05,\n",
       "        3.18214918e+05,  4.20902145e+05,  2.59059880e+05,  1.50125434e+06,\n",
       "        2.35090487e+04,  3.11907497e+05,  4.46862153e+05,  1.39439663e+06,\n",
       "        7.82564078e+05,  7.50160726e+05, -4.73400028e+03,  4.52615046e+05,\n",
       "        5.29342517e+05,  2.98866446e+05,  4.60935652e+05,  4.13277856e+05,\n",
       "        9.14291890e+05,  2.50914307e+05,  6.34232240e+05,  3.65756235e+05,\n",
       "        1.10031726e+05,  5.33552332e+05,  7.13527863e+05,  2.69759678e+04,\n",
       "        6.37627018e+05,  4.88618559e+05,  1.13198488e+06,  4.53813193e+05,\n",
       "        3.66446686e+05,  3.46002568e+04,  7.38773777e+05,  6.91411722e+05,\n",
       "        3.43057323e+05,  1.28346326e+05,  3.30307345e+04,  6.32842539e+05,\n",
       "        6.68208540e+04,  4.67869490e+05,  5.02761536e+05,  1.75717647e+05,\n",
       "        7.25892292e+05,  6.22047516e+05,  4.86538407e+05,  5.72706768e+05,\n",
       "        1.58480906e+05,  4.85151640e+05,  6.51378215e+05,  4.13225410e+05,\n",
       "        1.42990502e+06,  3.25722728e+05,  5.97748156e+05, -7.37010070e+04,\n",
       "        1.26663767e+06,  5.89852743e+05,  3.08576753e+05,  6.37510538e+05,\n",
       "        1.07544812e+05,  3.01034431e+05,  4.54485899e+05,  5.30472600e+05,\n",
       "       -1.28689184e+04,  1.27495827e+06,  3.90881112e+05,  2.77374481e+05,\n",
       "        2.42496828e+05,  1.50529817e+06,  1.33654863e+05,  1.23714778e+05,\n",
       "        7.02502930e+05,  5.13652217e+05,  3.83781281e+05,  5.00780538e+05,\n",
       "        5.10699999e+05, -1.20482665e+05, -1.47338946e+05,  7.00237091e+05,\n",
       "        2.91105983e+05,  2.83689180e+05,  7.68889153e+05,  3.41250692e+05,\n",
       "        1.17964268e+06,  1.51223201e+06,  5.34600446e+05,  5.28515891e+05,\n",
       "        8.41358374e+05,  4.51725538e+05,  5.00963293e+05,  5.59715230e+05,\n",
       "        4.66965288e+05,  1.56682364e+06,  1.40133851e+05,  4.17571401e+05,\n",
       "        7.05969849e+05,  2.57452038e+05,  6.79113568e+05,  7.11945322e+05,\n",
       "        1.15872347e+06,  2.65076327e+05,  4.54001814e+05,  3.07187052e+05,\n",
       "        6.15923272e+05,  5.14897936e+05,  4.84591377e+05,  1.26455751e+06,\n",
       "       -9.35880632e+04,  4.74614707e+05,  2.63506805e+05,  8.13789812e+04,\n",
       "        4.54001814e+05,  5.69239849e+05,  5.91649206e+05,  1.05791936e+06,\n",
       "        2.59082755e+04,  4.74614707e+05,  2.69236630e+05,  2.25290433e+04,\n",
       "        4.34026925e+05,  1.28018641e+06,  6.09516486e+05,  4.14305590e+05,\n",
       "        8.90436637e+05,  1.22256620e+06,  4.52054904e+05,  3.20666044e+05,\n",
       "        5.75985066e+05,  1.45417345e+06,  3.85938610e+05,  7.39759969e+05,\n",
       "        1.34669881e+06,  5.21582053e+05,  5.48438334e+05,  2.27128837e+05,\n",
       "        7.46693807e+05,  3.83781281e+05,  4.22799542e+05,  3.03836613e+05,\n",
       "        7.36293050e+05,  7.33986846e+05, -6.83396241e+04,  4.94725771e+05,\n",
       "        4.11519713e+05,  3.13801961e+05,  7.36293050e+05,  1.69070284e+05,\n",
       "        5.94637221e+05,  2.83825355e+05,  3.76847443e+05,  1.55952051e+04])"
      ]
     },
     "execution_count": 27,
     "metadata": {},
     "output_type": "execute_result"
    }
   ],
   "source": [
    "lr_predict"
   ]
  },
  {
   "cell_type": "code",
   "execution_count": 28,
   "metadata": {},
   "outputs": [
    {
     "data": {
      "text/html": [
       "<div>\n",
       "<style scoped>\n",
       "    .dataframe tbody tr th:only-of-type {\n",
       "        vertical-align: middle;\n",
       "    }\n",
       "\n",
       "    .dataframe tbody tr th {\n",
       "        vertical-align: top;\n",
       "    }\n",
       "\n",
       "    .dataframe thead th {\n",
       "        text-align: right;\n",
       "    }\n",
       "</style>\n",
       "<table border=\"1\" class=\"dataframe\">\n",
       "  <thead>\n",
       "    <tr style=\"text-align: right;\">\n",
       "      <th></th>\n",
       "      <th>selling_price</th>\n",
       "    </tr>\n",
       "  </thead>\n",
       "  <tbody>\n",
       "    <tr>\n",
       "      <th>4.886186e+05</th>\n",
       "      <td>NaN</td>\n",
       "    </tr>\n",
       "    <tr>\n",
       "      <th>4.783343e+05</th>\n",
       "      <td>NaN</td>\n",
       "    </tr>\n",
       "    <tr>\n",
       "      <th>6.284273e+05</th>\n",
       "      <td>NaN</td>\n",
       "    </tr>\n",
       "    <tr>\n",
       "      <th>1.569714e+06</th>\n",
       "      <td>NaN</td>\n",
       "    </tr>\n",
       "    <tr>\n",
       "      <th>3.390981e+04</th>\n",
       "      <td>NaN</td>\n",
       "    </tr>\n",
       "    <tr>\n",
       "      <th>...</th>\n",
       "      <td>...</td>\n",
       "    </tr>\n",
       "    <tr>\n",
       "      <th>1.690703e+05</th>\n",
       "      <td>NaN</td>\n",
       "    </tr>\n",
       "    <tr>\n",
       "      <th>5.946372e+05</th>\n",
       "      <td>NaN</td>\n",
       "    </tr>\n",
       "    <tr>\n",
       "      <th>2.838254e+05</th>\n",
       "      <td>NaN</td>\n",
       "    </tr>\n",
       "    <tr>\n",
       "      <th>3.768474e+05</th>\n",
       "      <td>NaN</td>\n",
       "    </tr>\n",
       "    <tr>\n",
       "      <th>1.559521e+04</th>\n",
       "      <td>NaN</td>\n",
       "    </tr>\n",
       "  </tbody>\n",
       "</table>\n",
       "<p>716 rows × 1 columns</p>\n",
       "</div>"
      ],
      "text/plain": [
       "              selling_price\n",
       "4.886186e+05            NaN\n",
       "4.783343e+05            NaN\n",
       "6.284273e+05            NaN\n",
       "1.569714e+06            NaN\n",
       "3.390981e+04            NaN\n",
       "...                     ...\n",
       "1.690703e+05            NaN\n",
       "5.946372e+05            NaN\n",
       "2.838254e+05            NaN\n",
       "3.768474e+05            NaN\n",
       "1.559521e+04            NaN\n",
       "\n",
       "[716 rows x 1 columns]"
      ]
     },
     "execution_count": 28,
     "metadata": {},
     "output_type": "execute_result"
    }
   ],
   "source": [
    "compa = pd.DataFrame(y_test,lr_predict)\n",
    "compa"
   ]
  },
  {
   "cell_type": "code",
   "execution_count": 29,
   "metadata": {},
   "outputs": [
    {
     "data": {
      "text/html": [
       "<style>#sk-container-id-1 {color: black;background-color: white;}#sk-container-id-1 pre{padding: 0;}#sk-container-id-1 div.sk-toggleable {background-color: white;}#sk-container-id-1 label.sk-toggleable__label {cursor: pointer;display: block;width: 100%;margin-bottom: 0;padding: 0.3em;box-sizing: border-box;text-align: center;}#sk-container-id-1 label.sk-toggleable__label-arrow:before {content: \"▸\";float: left;margin-right: 0.25em;color: #696969;}#sk-container-id-1 label.sk-toggleable__label-arrow:hover:before {color: black;}#sk-container-id-1 div.sk-estimator:hover label.sk-toggleable__label-arrow:before {color: black;}#sk-container-id-1 div.sk-toggleable__content {max-height: 0;max-width: 0;overflow: hidden;text-align: left;background-color: #f0f8ff;}#sk-container-id-1 div.sk-toggleable__content pre {margin: 0.2em;color: black;border-radius: 0.25em;background-color: #f0f8ff;}#sk-container-id-1 input.sk-toggleable__control:checked~div.sk-toggleable__content {max-height: 200px;max-width: 100%;overflow: auto;}#sk-container-id-1 input.sk-toggleable__control:checked~label.sk-toggleable__label-arrow:before {content: \"▾\";}#sk-container-id-1 div.sk-estimator input.sk-toggleable__control:checked~label.sk-toggleable__label {background-color: #d4ebff;}#sk-container-id-1 div.sk-label input.sk-toggleable__control:checked~label.sk-toggleable__label {background-color: #d4ebff;}#sk-container-id-1 input.sk-hidden--visually {border: 0;clip: rect(1px 1px 1px 1px);clip: rect(1px, 1px, 1px, 1px);height: 1px;margin: -1px;overflow: hidden;padding: 0;position: absolute;width: 1px;}#sk-container-id-1 div.sk-estimator {font-family: monospace;background-color: #f0f8ff;border: 1px dotted black;border-radius: 0.25em;box-sizing: border-box;margin-bottom: 0.5em;}#sk-container-id-1 div.sk-estimator:hover {background-color: #d4ebff;}#sk-container-id-1 div.sk-parallel-item::after {content: \"\";width: 100%;border-bottom: 1px solid gray;flex-grow: 1;}#sk-container-id-1 div.sk-label:hover label.sk-toggleable__label {background-color: #d4ebff;}#sk-container-id-1 div.sk-serial::before {content: \"\";position: absolute;border-left: 1px solid gray;box-sizing: border-box;top: 0;bottom: 0;left: 50%;z-index: 0;}#sk-container-id-1 div.sk-serial {display: flex;flex-direction: column;align-items: center;background-color: white;padding-right: 0.2em;padding-left: 0.2em;position: relative;}#sk-container-id-1 div.sk-item {position: relative;z-index: 1;}#sk-container-id-1 div.sk-parallel {display: flex;align-items: stretch;justify-content: center;background-color: white;position: relative;}#sk-container-id-1 div.sk-item::before, #sk-container-id-1 div.sk-parallel-item::before {content: \"\";position: absolute;border-left: 1px solid gray;box-sizing: border-box;top: 0;bottom: 0;left: 50%;z-index: -1;}#sk-container-id-1 div.sk-parallel-item {display: flex;flex-direction: column;z-index: 1;position: relative;background-color: white;}#sk-container-id-1 div.sk-parallel-item:first-child::after {align-self: flex-end;width: 50%;}#sk-container-id-1 div.sk-parallel-item:last-child::after {align-self: flex-start;width: 50%;}#sk-container-id-1 div.sk-parallel-item:only-child::after {width: 0;}#sk-container-id-1 div.sk-dashed-wrapped {border: 1px dashed gray;margin: 0 0.4em 0.5em 0.4em;box-sizing: border-box;padding-bottom: 0.4em;background-color: white;}#sk-container-id-1 div.sk-label label {font-family: monospace;font-weight: bold;display: inline-block;line-height: 1.2em;}#sk-container-id-1 div.sk-label-container {text-align: center;}#sk-container-id-1 div.sk-container {/* jupyter's `normalize.less` sets `[hidden] { display: none; }` but bootstrap.min.css set `[hidden] { display: none !important; }` so we also need the `!important` here to be able to override the default hidden behavior on the sphinx rendered scikit-learn.org. See: https://github.com/scikit-learn/scikit-learn/issues/21755 */display: inline-block !important;position: relative;}#sk-container-id-1 div.sk-text-repr-fallback {display: none;}</style><div id=\"sk-container-id-1\" class=\"sk-top-container\"><div class=\"sk-text-repr-fallback\"><pre>RandomForestRegressor(random_state=42)</pre><b>In a Jupyter environment, please rerun this cell to show the HTML representation or trust the notebook. <br />On GitHub, the HTML representation is unable to render, please try loading this page with nbviewer.org.</b></div><div class=\"sk-container\" hidden><div class=\"sk-item\"><div class=\"sk-estimator sk-toggleable\"><input class=\"sk-toggleable__control sk-hidden--visually\" id=\"sk-estimator-id-1\" type=\"checkbox\" checked><label for=\"sk-estimator-id-1\" class=\"sk-toggleable__label sk-toggleable__label-arrow\">RandomForestRegressor</label><div class=\"sk-toggleable__content\"><pre>RandomForestRegressor(random_state=42)</pre></div></div></div></div></div>"
      ],
      "text/plain": [
       "RandomForestRegressor(random_state=42)"
      ]
     },
     "execution_count": 29,
     "metadata": {},
     "output_type": "execute_result"
    }
   ],
   "source": [
    "# Train Random Forest Regressor model\n",
    "rf_model = RandomForestRegressor(random_state=42)\n",
    "rf_model.fit(X_train, y_train)"
   ]
  },
  {
   "cell_type": "code",
   "execution_count": 30,
   "metadata": {},
   "outputs": [
    {
     "data": {
      "text/html": [
       "<style>#sk-container-id-2 {color: black;background-color: white;}#sk-container-id-2 pre{padding: 0;}#sk-container-id-2 div.sk-toggleable {background-color: white;}#sk-container-id-2 label.sk-toggleable__label {cursor: pointer;display: block;width: 100%;margin-bottom: 0;padding: 0.3em;box-sizing: border-box;text-align: center;}#sk-container-id-2 label.sk-toggleable__label-arrow:before {content: \"▸\";float: left;margin-right: 0.25em;color: #696969;}#sk-container-id-2 label.sk-toggleable__label-arrow:hover:before {color: black;}#sk-container-id-2 div.sk-estimator:hover label.sk-toggleable__label-arrow:before {color: black;}#sk-container-id-2 div.sk-toggleable__content {max-height: 0;max-width: 0;overflow: hidden;text-align: left;background-color: #f0f8ff;}#sk-container-id-2 div.sk-toggleable__content pre {margin: 0.2em;color: black;border-radius: 0.25em;background-color: #f0f8ff;}#sk-container-id-2 input.sk-toggleable__control:checked~div.sk-toggleable__content {max-height: 200px;max-width: 100%;overflow: auto;}#sk-container-id-2 input.sk-toggleable__control:checked~label.sk-toggleable__label-arrow:before {content: \"▾\";}#sk-container-id-2 div.sk-estimator input.sk-toggleable__control:checked~label.sk-toggleable__label {background-color: #d4ebff;}#sk-container-id-2 div.sk-label input.sk-toggleable__control:checked~label.sk-toggleable__label {background-color: #d4ebff;}#sk-container-id-2 input.sk-hidden--visually {border: 0;clip: rect(1px 1px 1px 1px);clip: rect(1px, 1px, 1px, 1px);height: 1px;margin: -1px;overflow: hidden;padding: 0;position: absolute;width: 1px;}#sk-container-id-2 div.sk-estimator {font-family: monospace;background-color: #f0f8ff;border: 1px dotted black;border-radius: 0.25em;box-sizing: border-box;margin-bottom: 0.5em;}#sk-container-id-2 div.sk-estimator:hover {background-color: #d4ebff;}#sk-container-id-2 div.sk-parallel-item::after {content: \"\";width: 100%;border-bottom: 1px solid gray;flex-grow: 1;}#sk-container-id-2 div.sk-label:hover label.sk-toggleable__label {background-color: #d4ebff;}#sk-container-id-2 div.sk-serial::before {content: \"\";position: absolute;border-left: 1px solid gray;box-sizing: border-box;top: 0;bottom: 0;left: 50%;z-index: 0;}#sk-container-id-2 div.sk-serial {display: flex;flex-direction: column;align-items: center;background-color: white;padding-right: 0.2em;padding-left: 0.2em;position: relative;}#sk-container-id-2 div.sk-item {position: relative;z-index: 1;}#sk-container-id-2 div.sk-parallel {display: flex;align-items: stretch;justify-content: center;background-color: white;position: relative;}#sk-container-id-2 div.sk-item::before, #sk-container-id-2 div.sk-parallel-item::before {content: \"\";position: absolute;border-left: 1px solid gray;box-sizing: border-box;top: 0;bottom: 0;left: 50%;z-index: -1;}#sk-container-id-2 div.sk-parallel-item {display: flex;flex-direction: column;z-index: 1;position: relative;background-color: white;}#sk-container-id-2 div.sk-parallel-item:first-child::after {align-self: flex-end;width: 50%;}#sk-container-id-2 div.sk-parallel-item:last-child::after {align-self: flex-start;width: 50%;}#sk-container-id-2 div.sk-parallel-item:only-child::after {width: 0;}#sk-container-id-2 div.sk-dashed-wrapped {border: 1px dashed gray;margin: 0 0.4em 0.5em 0.4em;box-sizing: border-box;padding-bottom: 0.4em;background-color: white;}#sk-container-id-2 div.sk-label label {font-family: monospace;font-weight: bold;display: inline-block;line-height: 1.2em;}#sk-container-id-2 div.sk-label-container {text-align: center;}#sk-container-id-2 div.sk-container {/* jupyter's `normalize.less` sets `[hidden] { display: none; }` but bootstrap.min.css set `[hidden] { display: none !important; }` so we also need the `!important` here to be able to override the default hidden behavior on the sphinx rendered scikit-learn.org. See: https://github.com/scikit-learn/scikit-learn/issues/21755 */display: inline-block !important;position: relative;}#sk-container-id-2 div.sk-text-repr-fallback {display: none;}</style><div id=\"sk-container-id-2\" class=\"sk-top-container\"><div class=\"sk-text-repr-fallback\"><pre>GradientBoostingRegressor(random_state=42)</pre><b>In a Jupyter environment, please rerun this cell to show the HTML representation or trust the notebook. <br />On GitHub, the HTML representation is unable to render, please try loading this page with nbviewer.org.</b></div><div class=\"sk-container\" hidden><div class=\"sk-item\"><div class=\"sk-estimator sk-toggleable\"><input class=\"sk-toggleable__control sk-hidden--visually\" id=\"sk-estimator-id-2\" type=\"checkbox\" checked><label for=\"sk-estimator-id-2\" class=\"sk-toggleable__label sk-toggleable__label-arrow\">GradientBoostingRegressor</label><div class=\"sk-toggleable__content\"><pre>GradientBoostingRegressor(random_state=42)</pre></div></div></div></div></div>"
      ],
      "text/plain": [
       "GradientBoostingRegressor(random_state=42)"
      ]
     },
     "execution_count": 30,
     "metadata": {},
     "output_type": "execute_result"
    }
   ],
   "source": [
    "# Train Gradient Boosting Regressor model\n",
    "gb_model = GradientBoostingRegressor(random_state=42)\n",
    "gb_model.fit(X_train, y_train)"
   ]
  },
  {
   "cell_type": "code",
   "execution_count": 31,
   "metadata": {},
   "outputs": [
    {
     "name": "stdout",
     "output_type": "stream",
     "text": [
      "Linear Regression Mean Squared Error: 195750605144.6967\n",
      "Random Forest Mean Squared Error: 179855684989.4378\n",
      "Gradient Boosting Mean Squared Error: 172385229508.9874\n"
     ]
    }
   ],
   "source": [
    "# Evaluate models\n",
    "models = {'Linear Regression': lr_model, 'Random Forest': rf_model, 'Gradient Boosting': gb_model}\n",
    "for name, model in models.items():\n",
    "    y_pred = model.predict(X_test)\n",
    "    mse = mean_squared_error(y_test, y_pred)\n",
    "    print(f'{name} Mean Squared Error: {mse}')"
   ]
  },
  {
   "cell_type": "code",
   "execution_count": 32,
   "metadata": {},
   "outputs": [
    {
     "name": "stdout",
     "output_type": "stream",
     "text": [
      "R-Squared Score for Random Forest Regression:  0.44\n",
      "\n",
      "R-Squared Score for Gradient Boosting Regression:  0.46\n",
      "\n",
      "R-Squared Score for Linear Regression:  0.39\n"
     ]
    }
   ],
   "source": [
    "\n",
    "# Generate predictions using the random forest model\n",
    "rf_predictions = rf_model.predict(X_test)\n",
    "\n",
    "# Calculate R-squared score for Random Forest Regression\n",
    "rf_r2 = r2_score(y_test, rf_predictions)\n",
    "print(f\"R-Squared Score for Random Forest Regression: {rf_r2: .2f}\\n\")\n",
    "\n",
    "# Generate predictions using the gradient boosting model\n",
    "gb_predictions = gb_model.predict(X_test)\n",
    "\n",
    "# Calculate R-squared score for Gradient Boosting Regression\n",
    "gb_r2 = r2_score(y_test, gb_predictions)\n",
    "print(f\"R-Squared Score for Gradient Boosting Regression: {gb_r2: .2f}\\n\")\n",
    "\n",
    "# Generate predictions using the linear regression model\n",
    "lr_predictions = lr_model.predict(X_test)\n",
    "\n",
    "# Calculate R-squared score for Linear Regression\n",
    "lr_r2 = r2_score(y_test, lr_predictions)\n",
    "print(f\"R-Squared Score for Linear Regression: {lr_r2: .2f}\")"
   ]
  },
  {
   "cell_type": "code",
   "execution_count": 33,
   "metadata": {},
   "outputs": [
    {
     "name": "stdout",
     "output_type": "stream",
     "text": [
      "                                  year  selling_price  km_driven  fuel_CNG  \\\n",
      "year                          1.000000       0.424260  -0.417490  0.008051   \n",
      "selling_price                 0.424260       1.000000  -0.187359 -0.040303   \n",
      "km_driven                    -0.417490      -0.187359   1.000000 -0.005801   \n",
      "fuel_CNG                      0.008051      -0.040303  -0.005801  1.000000   \n",
      "fuel_Diesel                   0.115800       0.276873   0.299145 -0.102894   \n",
      "fuel_Electric                -0.027388      -0.005383  -0.002549 -0.001710   \n",
      "fuel_LPG                     -0.051457      -0.046668   0.033680 -0.008042   \n",
      "fuel_Petrol                  -0.108551      -0.261443  -0.303389 -0.098226   \n",
      "seller_type_Dealer            0.140269       0.175024  -0.132437  0.011316   \n",
      "seller_type_Individual       -0.153833      -0.187640   0.142546 -0.008804   \n",
      "seller_type_Trustmark Dealer  0.067571       0.066012  -0.052344 -0.009865   \n",
      "transmission_Automatic        0.116692       0.486269  -0.101387 -0.031603   \n",
      "transmission_Manual          -0.116692      -0.486269   0.101387  0.031603   \n",
      "owner_First Owner             0.442652       0.229482  -0.297612 -0.022445   \n",
      "owner_Fourth & Above Owner   -0.181847      -0.084116   0.096649  0.042895   \n",
      "owner_Second Owner           -0.288943      -0.158960   0.192028  0.017877   \n",
      "owner_Test Drive Car          0.106746       0.065189  -0.094556 -0.007065   \n",
      "owner_Third Owner            -0.247144      -0.120963   0.189044 -0.010031   \n",
      "\n",
      "                              fuel_Diesel  fuel_Electric  fuel_LPG  \\\n",
      "year                             0.115800      -0.027388 -0.051457   \n",
      "selling_price                    0.276873      -0.005383 -0.046668   \n",
      "km_driven                        0.299145      -0.002549  0.033680   \n",
      "fuel_CNG                        -0.102894      -0.001710 -0.008042   \n",
      "fuel_Diesel                      1.000000      -0.016830 -0.079174   \n",
      "fuel_Electric                   -0.016830       1.000000 -0.001316   \n",
      "fuel_LPG                        -0.079174      -0.001316  1.000000   \n",
      "fuel_Petrol                     -0.966988      -0.016067 -0.075582   \n",
      "seller_type_Dealer               0.026202       0.033545 -0.030261   \n",
      "seller_type_Individual          -0.022175      -0.032604  0.031542   \n",
      "seller_type_Trustmark Dealer    -0.015241      -0.001614 -0.007591   \n",
      "transmission_Automatic           0.025755       0.054096 -0.024318   \n",
      "transmission_Manual             -0.025755      -0.054096  0.024318   \n",
      "owner_First Owner               -0.007063      -0.021363 -0.026828   \n",
      "owner_Fourth & Above Owner      -0.022405      -0.002447  0.013445   \n",
      "owner_Second Owner               0.013618       0.027261  0.023947   \n",
      "owner_Test Drive Car            -0.012639      -0.001156 -0.005436   \n",
      "owner_Third Owner                0.005275      -0.004958  0.002920   \n",
      "\n",
      "                              fuel_Petrol  seller_type_Dealer  \\\n",
      "year                            -0.108551            0.140269   \n",
      "selling_price                   -0.261443            0.175024   \n",
      "km_driven                       -0.303389           -0.132437   \n",
      "fuel_CNG                        -0.098226            0.011316   \n",
      "fuel_Diesel                     -0.966988            0.026202   \n",
      "fuel_Electric                   -0.016067            0.033545   \n",
      "fuel_LPG                        -0.075582           -0.030261   \n",
      "fuel_Petrol                      1.000000           -0.024901   \n",
      "seller_type_Dealer              -0.024901            1.000000   \n",
      "seller_type_Individual           0.020130           -0.971955   \n",
      "seller_type_Trustmark Dealer     0.018493           -0.048105   \n",
      "transmission_Automatic          -0.017379            0.141183   \n",
      "transmission_Manual              0.017379           -0.141183   \n",
      "owner_First Owner                0.016527            0.208458   \n",
      "owner_Fourth & Above Owner       0.011714           -0.063181   \n",
      "owner_Second Owner              -0.021909           -0.151858   \n",
      "owner_Test Drive Car             0.014969            0.138619   \n",
      "owner_Third Owner               -0.003538           -0.124672   \n",
      "\n",
      "                              seller_type_Individual  \\\n",
      "year                                       -0.153833   \n",
      "selling_price                              -0.187640   \n",
      "km_driven                                   0.142546   \n",
      "fuel_CNG                                   -0.008804   \n",
      "fuel_Diesel                                -0.022175   \n",
      "fuel_Electric                              -0.032604   \n",
      "fuel_LPG                                    0.031542   \n",
      "fuel_Petrol                                 0.020130   \n",
      "seller_type_Dealer                         -0.971955   \n",
      "seller_type_Individual                      1.000000   \n",
      "seller_type_Trustmark Dealer               -0.188139   \n",
      "transmission_Automatic                     -0.148879   \n",
      "transmission_Manual                         0.148879   \n",
      "owner_First Owner                          -0.219920   \n",
      "owner_Fourth & Above Owner                  0.065449   \n",
      "owner_Second Owner                          0.160166   \n",
      "owner_Test Drive Car                       -0.134731   \n",
      "owner_Third Owner                           0.129323   \n",
      "\n",
      "                              seller_type_Trustmark Dealer  \\\n",
      "year                                              0.067571   \n",
      "selling_price                                     0.066012   \n",
      "km_driven                                        -0.052344   \n",
      "fuel_CNG                                         -0.009865   \n",
      "fuel_Diesel                                      -0.015241   \n",
      "fuel_Electric                                    -0.001614   \n",
      "fuel_LPG                                         -0.007591   \n",
      "fuel_Petrol                                       0.018493   \n",
      "seller_type_Dealer                               -0.048105   \n",
      "seller_type_Individual                           -0.188139   \n",
      "seller_type_Trustmark Dealer                      1.000000   \n",
      "transmission_Automatic                            0.042713   \n",
      "transmission_Manual                              -0.042713   \n",
      "owner_First Owner                                 0.063484   \n",
      "owner_Fourth & Above Owner                       -0.014122   \n",
      "owner_Second Owner                               -0.046073   \n",
      "owner_Test Drive Car                             -0.006668   \n",
      "owner_Third Owner                                -0.028608   \n",
      "\n",
      "                              transmission_Automatic  transmission_Manual  \\\n",
      "year                                        0.116692            -0.116692   \n",
      "selling_price                               0.486269            -0.486269   \n",
      "km_driven                                  -0.101387             0.101387   \n",
      "fuel_CNG                                   -0.031603             0.031603   \n",
      "fuel_Diesel                                 0.025755            -0.025755   \n",
      "fuel_Electric                               0.054096            -0.054096   \n",
      "fuel_LPG                                   -0.024318             0.024318   \n",
      "fuel_Petrol                                -0.017379             0.017379   \n",
      "seller_type_Dealer                          0.141183            -0.141183   \n",
      "seller_type_Individual                     -0.148879             0.148879   \n",
      "seller_type_Trustmark Dealer                0.042713            -0.042713   \n",
      "transmission_Automatic                      1.000000            -1.000000   \n",
      "transmission_Manual                        -1.000000             1.000000   \n",
      "owner_First Owner                           0.068460            -0.068460   \n",
      "owner_Fourth & Above Owner                 -0.031408             0.031408   \n",
      "owner_Second Owner                         -0.047360             0.047360   \n",
      "owner_Test Drive Car                       -0.006955             0.006955   \n",
      "owner_Third Owner                          -0.026205             0.026205   \n",
      "\n",
      "                              owner_First Owner  owner_Fourth & Above Owner  \\\n",
      "year                                   0.442652                   -0.181847   \n",
      "selling_price                          0.229482                   -0.084116   \n",
      "km_driven                             -0.297612                    0.096649   \n",
      "fuel_CNG                              -0.022445                    0.042895   \n",
      "fuel_Diesel                           -0.007063                   -0.022405   \n",
      "fuel_Electric                         -0.021363                   -0.002447   \n",
      "fuel_LPG                              -0.026828                    0.013445   \n",
      "fuel_Petrol                            0.016527                    0.011714   \n",
      "seller_type_Dealer                     0.208458                   -0.063181   \n",
      "seller_type_Individual                -0.219920                    0.065449   \n",
      "seller_type_Trustmark Dealer           0.063484                   -0.014122   \n",
      "transmission_Automatic                 0.068460                   -0.031408   \n",
      "transmission_Manual                   -0.068460                    0.031408   \n",
      "owner_First Owner                      1.000000                   -0.186958   \n",
      "owner_Fourth & Above Owner            -0.186958                    1.000000   \n",
      "owner_Second Owner                    -0.783677                   -0.089772   \n",
      "owner_Test Drive Car                  -0.088282                   -0.010113   \n",
      "owner_Third Owner                     -0.378751                   -0.043387   \n",
      "\n",
      "                              owner_Second Owner  owner_Test Drive Car  \\\n",
      "year                                   -0.288943              0.106746   \n",
      "selling_price                          -0.158960              0.065189   \n",
      "km_driven                               0.192028             -0.094556   \n",
      "fuel_CNG                                0.017877             -0.007065   \n",
      "fuel_Diesel                             0.013618             -0.012639   \n",
      "fuel_Electric                           0.027261             -0.001156   \n",
      "fuel_LPG                                0.023947             -0.005436   \n",
      "fuel_Petrol                            -0.021909              0.014969   \n",
      "seller_type_Dealer                     -0.151858              0.138619   \n",
      "seller_type_Individual                  0.160166             -0.134731   \n",
      "seller_type_Trustmark Dealer           -0.046073             -0.006668   \n",
      "transmission_Automatic                 -0.047360             -0.006955   \n",
      "transmission_Manual                     0.047360              0.006955   \n",
      "owner_First Owner                      -0.783677             -0.088282   \n",
      "owner_Fourth & Above Owner             -0.089772             -0.010113   \n",
      "owner_Second Owner                      1.000000             -0.042390   \n",
      "owner_Test Drive Car                   -0.042390              1.000000   \n",
      "owner_Third Owner                      -0.181865             -0.020487   \n",
      "\n",
      "                              owner_Third Owner  \n",
      "year                                  -0.247144  \n",
      "selling_price                         -0.120963  \n",
      "km_driven                              0.189044  \n",
      "fuel_CNG                              -0.010031  \n",
      "fuel_Diesel                            0.005275  \n",
      "fuel_Electric                         -0.004958  \n",
      "fuel_LPG                               0.002920  \n",
      "fuel_Petrol                           -0.003538  \n",
      "seller_type_Dealer                    -0.124672  \n",
      "seller_type_Individual                 0.129323  \n",
      "seller_type_Trustmark Dealer          -0.028608  \n",
      "transmission_Automatic                -0.026205  \n",
      "transmission_Manual                    0.026205  \n",
      "owner_First Owner                     -0.378751  \n",
      "owner_Fourth & Above Owner            -0.043387  \n",
      "owner_Second Owner                    -0.181865  \n",
      "owner_Test Drive Car                  -0.020487  \n",
      "owner_Third Owner                      1.000000  \n"
     ]
    },
    {
     "name": "stderr",
     "output_type": "stream",
     "text": [
      "C:\\Users\\USER\\AppData\\Local\\Temp\\ipykernel_10160\\3107777632.py:2: FutureWarning: The default value of numeric_only in DataFrame.corr is deprecated. In a future version, it will default to False. Select only valid columns or specify the value of numeric_only to silence this warning.\n",
      "  correlation_matrix = df_encoded.corr()\n"
     ]
    }
   ],
   "source": [
    "# Check correlation between variables\n",
    "correlation_matrix = df_encoded.corr()\n",
    "print(correlation_matrix)"
   ]
  }
 ],
 "metadata": {
  "kernelspec": {
   "display_name": "base",
   "language": "python",
   "name": "python3"
  },
  "language_info": {
   "codemirror_mode": {
    "name": "ipython",
    "version": 3
   },
   "file_extension": ".py",
   "mimetype": "text/x-python",
   "name": "python",
   "nbconvert_exporter": "python",
   "pygments_lexer": "ipython3",
   "version": "3.10.9"
  }
 },
 "nbformat": 4,
 "nbformat_minor": 2
}
